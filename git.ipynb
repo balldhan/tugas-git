{
 "cells": [
  {
   "cell_type": "code",
   "execution_count": null,
   "metadata": {},
   "outputs": [],
   "source": [
    "data_panen = {\n",
    "    'lokasi1' : {\n",
    "        'nama_lokasi' : 'Kebun A',\n",
    "        'hasil_panen' : {\n",
    "            'padi' : 1200,\n",
    "            'jagung' : 800,\n",
    "            'kedelai' : 500\n",
    "        }\n",
    "    },\n",
    "    'lokasi2' : {\n",
    "        'nama_lokasi' : 'Kebun B',\n",
    "        'hasil_panen' : {\n",
    "            'padi' : 1500,\n",
    "            'jagung' : 900,\n",
    "            'kedelai' : 450\n",
    "        }\n",
    "    },\n",
    "    'lokasi3' : {\n",
    "        'nama_lokasi' : 'Kebun C',\n",
    "        'hasil_panen' : {\n",
    "            'padi' : 1100,\n",
    "            'jagung' : 750,\n",
    "            'kedelai' : 600\n",
    "        }\n",
    "    },\n",
    "    'lokasi4' : {\n",
    "        'nama_lokasi' : 'Kebun D',\n",
    "        'hasil_panen' : {\n",
    "            'padi' : 1300, \n",
    "            'jagung' : 850,\n",
    "            'kedelai' : 550\n",
    "        }\n",
    "    },\n",
    "    'lokasi5' : {\n",
    "        'nama_lokasi' : 'Kebun E',\n",
    "        'hasil_panen' : {\n",
    "            'padi' : 1400,\n",
    "            'jagung' : 90,\n",
    "            'kedelai' : 480\n",
    "        }\n",
    "    }\n",
    "}"
   ]
  }
 ],
 "metadata": {
  "kernelspec": {
   "display_name": "Python 3",
   "language": "python",
   "name": "python3"
  },
  "language_info": {
   "name": "python",
   "version": "3.12.7"
  }
 },
 "nbformat": 4,
 "nbformat_minor": 2
}
